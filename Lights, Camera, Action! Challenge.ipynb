{
 "cells": [
  {
   "cell_type": "markdown",
   "id": "7c2d38d4",
   "metadata": {},
   "source": [
    "<div class=\"alert alert-success h1\" role=\"alert\">\n",
    "    <b> Introduction\n",
    "</b>\n",
    "<a class=\"anchor\" id=\"intro\"></a> </div>\n",
    "\n",
    "We will try to predict the IMDB score for a dataset using a regression model. \n",
    "\n",
    "The columns of the train dataset are:\n",
    "\n",
    "<center>\n",
    "\n",
    "|Column Name|Column Description|\n",
    "|:---|:-------|\n",
    "|`id`|A unique identifier for each title.|\n",
    "|`title`|The name of the title|\n",
    "|`type`|The type of the title (e.g., movie, show)|\n",
    "|`description`|The synopsis of the title|\n",
    "|`release_year`|The year the title was released|\n",
    "|`age_certification`|The age certification of the title|\n",
    "|`runtime`|The runtime of the title|\n",
    "|`seasons`|The number of seasons (relevant for shows)|\n",
    "|`genres`|The list of genres of the title|\n",
    "|`production_countries`|The list of countries where the title was produced|\n",
    "|`streaming`|The streaming platform offering the title|\n",
    "|`imdb_votes`| The number of IMDB votes the title has received |\n",
    "\n",
    "</center>\n",
    "\n",
    "<center>"
   ]
  },
  {
   "cell_type": "code",
   "execution_count": 1,
   "id": "8bcfd799",
   "metadata": {},
   "outputs": [],
   "source": [
    "#Data treatment\n",
    "# ==============================================================================\n",
    "import pandas as pd\n",
    "import numpy as np\n",
    "import ast\n",
    "#Data visualization\n",
    "# ==============================================================================\n",
    "import matplotlib.pyplot as plt\n",
    "import seaborn as sns\n",
    "%matplotlib inline\n",
    "\n",
    "#Machine learning\n",
    "# ==============================================================================\n",
    "from sklearn.model_selection import train_test_split\n",
    "from sklearn.ensemble import RandomForestRegressor\n",
    "from sklearn.metrics import mean_absolute_error, mean_squared_error\n",
    "from sklearn.preprocessing import MultiLabelBinarizer\n",
    "from sklearn.ensemble import GradientBoostingRegressor\n",
    "from sklearn.model_selection import cross_val_score,train_test_split, RepeatedKFold, GridSearchCV, ParameterGrid\n",
    "import json\n",
    "\n",
    "#Warnings\n",
    "# ==============================================================================\n",
    "import warnings\n",
    "warnings.filterwarnings(\"ignore\")"
   ]
  },
  {
   "cell_type": "code",
   "execution_count": 2,
   "id": "50839387",
   "metadata": {},
   "outputs": [],
   "source": [
    "test_titles=pd.read_csv('C:/Users/josep/Downloads/Lights_camera_action_challenge/test_titles.csv')\n",
    "train_titles=pd.read_csv('C:/Users/josep/Downloads/Lights_camera_action_challenge/train_titles.csv')"
   ]
  },
  {
   "cell_type": "code",
   "execution_count": 3,
   "id": "fd33414b",
   "metadata": {},
   "outputs": [
    {
     "data": {
      "text/html": [
       "<div>\n",
       "<style scoped>\n",
       "    .dataframe tbody tr th:only-of-type {\n",
       "        vertical-align: middle;\n",
       "    }\n",
       "\n",
       "    .dataframe tbody tr th {\n",
       "        vertical-align: top;\n",
       "    }\n",
       "\n",
       "    .dataframe thead th {\n",
       "        text-align: right;\n",
       "    }\n",
       "</style>\n",
       "<table border=\"1\" class=\"dataframe\">\n",
       "  <thead>\n",
       "    <tr style=\"text-align: right;\">\n",
       "      <th></th>\n",
       "      <th>id</th>\n",
       "      <th>title</th>\n",
       "      <th>type</th>\n",
       "      <th>description</th>\n",
       "      <th>release_year</th>\n",
       "      <th>age_certification</th>\n",
       "      <th>runtime</th>\n",
       "      <th>genres</th>\n",
       "      <th>production_countries</th>\n",
       "      <th>seasons</th>\n",
       "      <th>imdb_votes</th>\n",
       "      <th>streaming</th>\n",
       "    </tr>\n",
       "  </thead>\n",
       "  <tbody>\n",
       "    <tr>\n",
       "      <th>0</th>\n",
       "      <td>tm54590</td>\n",
       "      <td>Kansas</td>\n",
       "      <td>MOVIE</td>\n",
       "      <td>A drifter becomes both a bank robber and a her...</td>\n",
       "      <td>1988</td>\n",
       "      <td>R</td>\n",
       "      <td>110</td>\n",
       "      <td>['drama', 'thriller', 'crime', 'romance']</td>\n",
       "      <td>['US']</td>\n",
       "      <td>NaN</td>\n",
       "      <td>1237</td>\n",
       "      <td>amazon</td>\n",
       "    </tr>\n",
       "    <tr>\n",
       "      <th>1</th>\n",
       "      <td>tm47969</td>\n",
       "      <td>Vibes</td>\n",
       "      <td>MOVIE</td>\n",
       "      <td>Medium Sylvia Pickel and psychometrist Nick De...</td>\n",
       "      <td>1988</td>\n",
       "      <td>PG</td>\n",
       "      <td>99</td>\n",
       "      <td>['comedy', 'romance']</td>\n",
       "      <td>['US']</td>\n",
       "      <td>NaN</td>\n",
       "      <td>4828</td>\n",
       "      <td>amazon</td>\n",
       "    </tr>\n",
       "    <tr>\n",
       "      <th>2</th>\n",
       "      <td>tm124313</td>\n",
       "      <td>Full Moon High</td>\n",
       "      <td>MOVIE</td>\n",
       "      <td>A teenager becomes a werewolf after a family v...</td>\n",
       "      <td>1981</td>\n",
       "      <td>PG</td>\n",
       "      <td>93</td>\n",
       "      <td>['horror', 'comedy', 'fantasy']</td>\n",
       "      <td>['US']</td>\n",
       "      <td>NaN</td>\n",
       "      <td>1536</td>\n",
       "      <td>amazon</td>\n",
       "    </tr>\n",
       "    <tr>\n",
       "      <th>3</th>\n",
       "      <td>tm120963</td>\n",
       "      <td>Girls Just Want to Have Fun</td>\n",
       "      <td>MOVIE</td>\n",
       "      <td>Janey is new in town, and soon meets Lynne, wh...</td>\n",
       "      <td>1985</td>\n",
       "      <td>PG</td>\n",
       "      <td>87</td>\n",
       "      <td>['romance', 'comedy', 'music']</td>\n",
       "      <td>['US']</td>\n",
       "      <td>NaN</td>\n",
       "      <td>12425</td>\n",
       "      <td>amazon</td>\n",
       "    </tr>\n",
       "    <tr>\n",
       "      <th>4</th>\n",
       "      <td>tm118428</td>\n",
       "      <td>One More Saturday Night</td>\n",
       "      <td>MOVIE</td>\n",
       "      <td>The problems faced by both teenagers and adult...</td>\n",
       "      <td>1986</td>\n",
       "      <td>R</td>\n",
       "      <td>95</td>\n",
       "      <td>['comedy']</td>\n",
       "      <td>['US']</td>\n",
       "      <td>NaN</td>\n",
       "      <td>328</td>\n",
       "      <td>amazon</td>\n",
       "    </tr>\n",
       "  </tbody>\n",
       "</table>\n",
       "</div>"
      ],
      "text/plain": [
       "         id                        title   type  \\\n",
       "0   tm54590                       Kansas  MOVIE   \n",
       "1   tm47969                        Vibes  MOVIE   \n",
       "2  tm124313               Full Moon High  MOVIE   \n",
       "3  tm120963  Girls Just Want to Have Fun  MOVIE   \n",
       "4  tm118428      One More Saturday Night  MOVIE   \n",
       "\n",
       "                                         description  release_year  \\\n",
       "0  A drifter becomes both a bank robber and a her...          1988   \n",
       "1  Medium Sylvia Pickel and psychometrist Nick De...          1988   \n",
       "2  A teenager becomes a werewolf after a family v...          1981   \n",
       "3  Janey is new in town, and soon meets Lynne, wh...          1985   \n",
       "4  The problems faced by both teenagers and adult...          1986   \n",
       "\n",
       "  age_certification  runtime                                     genres  \\\n",
       "0                 R      110  ['drama', 'thriller', 'crime', 'romance']   \n",
       "1                PG       99                      ['comedy', 'romance']   \n",
       "2                PG       93            ['horror', 'comedy', 'fantasy']   \n",
       "3                PG       87             ['romance', 'comedy', 'music']   \n",
       "4                 R       95                                 ['comedy']   \n",
       "\n",
       "  production_countries  seasons  imdb_votes streaming  \n",
       "0               ['US']      NaN        1237    amazon  \n",
       "1               ['US']      NaN        4828    amazon  \n",
       "2               ['US']      NaN        1536    amazon  \n",
       "3               ['US']      NaN       12425    amazon  \n",
       "4               ['US']      NaN         328    amazon  "
      ]
     },
     "execution_count": 3,
     "metadata": {},
     "output_type": "execute_result"
    }
   ],
   "source": [
    "test_titles.head(5)"
   ]
  },
  {
   "cell_type": "code",
   "execution_count": 4,
   "id": "104d2989",
   "metadata": {},
   "outputs": [
    {
     "data": {
      "text/html": [
       "<div>\n",
       "<style scoped>\n",
       "    .dataframe tbody tr th:only-of-type {\n",
       "        vertical-align: middle;\n",
       "    }\n",
       "\n",
       "    .dataframe tbody tr th {\n",
       "        vertical-align: top;\n",
       "    }\n",
       "\n",
       "    .dataframe thead th {\n",
       "        text-align: right;\n",
       "    }\n",
       "</style>\n",
       "<table border=\"1\" class=\"dataframe\">\n",
       "  <thead>\n",
       "    <tr style=\"text-align: right;\">\n",
       "      <th></th>\n",
       "      <th>id</th>\n",
       "      <th>title</th>\n",
       "      <th>type</th>\n",
       "      <th>description</th>\n",
       "      <th>release_year</th>\n",
       "      <th>age_certification</th>\n",
       "      <th>runtime</th>\n",
       "      <th>genres</th>\n",
       "      <th>production_countries</th>\n",
       "      <th>seasons</th>\n",
       "      <th>imdb_votes</th>\n",
       "      <th>streaming</th>\n",
       "    </tr>\n",
       "  </thead>\n",
       "  <tbody>\n",
       "    <tr>\n",
       "      <th>0</th>\n",
       "      <td>tm54590</td>\n",
       "      <td>Kansas</td>\n",
       "      <td>MOVIE</td>\n",
       "      <td>A drifter becomes both a bank robber and a her...</td>\n",
       "      <td>1988</td>\n",
       "      <td>R</td>\n",
       "      <td>110</td>\n",
       "      <td>['drama', 'thriller', 'crime', 'romance']</td>\n",
       "      <td>['US']</td>\n",
       "      <td>NaN</td>\n",
       "      <td>1237</td>\n",
       "      <td>amazon</td>\n",
       "    </tr>\n",
       "    <tr>\n",
       "      <th>1</th>\n",
       "      <td>tm47969</td>\n",
       "      <td>Vibes</td>\n",
       "      <td>MOVIE</td>\n",
       "      <td>Medium Sylvia Pickel and psychometrist Nick De...</td>\n",
       "      <td>1988</td>\n",
       "      <td>PG</td>\n",
       "      <td>99</td>\n",
       "      <td>['comedy', 'romance']</td>\n",
       "      <td>['US']</td>\n",
       "      <td>NaN</td>\n",
       "      <td>4828</td>\n",
       "      <td>amazon</td>\n",
       "    </tr>\n",
       "    <tr>\n",
       "      <th>2</th>\n",
       "      <td>tm124313</td>\n",
       "      <td>Full Moon High</td>\n",
       "      <td>MOVIE</td>\n",
       "      <td>A teenager becomes a werewolf after a family v...</td>\n",
       "      <td>1981</td>\n",
       "      <td>PG</td>\n",
       "      <td>93</td>\n",
       "      <td>['horror', 'comedy', 'fantasy']</td>\n",
       "      <td>['US']</td>\n",
       "      <td>NaN</td>\n",
       "      <td>1536</td>\n",
       "      <td>amazon</td>\n",
       "    </tr>\n",
       "    <tr>\n",
       "      <th>3</th>\n",
       "      <td>tm120963</td>\n",
       "      <td>Girls Just Want to Have Fun</td>\n",
       "      <td>MOVIE</td>\n",
       "      <td>Janey is new in town, and soon meets Lynne, wh...</td>\n",
       "      <td>1985</td>\n",
       "      <td>PG</td>\n",
       "      <td>87</td>\n",
       "      <td>['romance', 'comedy', 'music']</td>\n",
       "      <td>['US']</td>\n",
       "      <td>NaN</td>\n",
       "      <td>12425</td>\n",
       "      <td>amazon</td>\n",
       "    </tr>\n",
       "    <tr>\n",
       "      <th>4</th>\n",
       "      <td>tm118428</td>\n",
       "      <td>One More Saturday Night</td>\n",
       "      <td>MOVIE</td>\n",
       "      <td>The problems faced by both teenagers and adult...</td>\n",
       "      <td>1986</td>\n",
       "      <td>R</td>\n",
       "      <td>95</td>\n",
       "      <td>['comedy']</td>\n",
       "      <td>['US']</td>\n",
       "      <td>NaN</td>\n",
       "      <td>328</td>\n",
       "      <td>amazon</td>\n",
       "    </tr>\n",
       "  </tbody>\n",
       "</table>\n",
       "</div>"
      ],
      "text/plain": [
       "         id                        title   type  \\\n",
       "0   tm54590                       Kansas  MOVIE   \n",
       "1   tm47969                        Vibes  MOVIE   \n",
       "2  tm124313               Full Moon High  MOVIE   \n",
       "3  tm120963  Girls Just Want to Have Fun  MOVIE   \n",
       "4  tm118428      One More Saturday Night  MOVIE   \n",
       "\n",
       "                                         description  release_year  \\\n",
       "0  A drifter becomes both a bank robber and a her...          1988   \n",
       "1  Medium Sylvia Pickel and psychometrist Nick De...          1988   \n",
       "2  A teenager becomes a werewolf after a family v...          1981   \n",
       "3  Janey is new in town, and soon meets Lynne, wh...          1985   \n",
       "4  The problems faced by both teenagers and adult...          1986   \n",
       "\n",
       "  age_certification  runtime                                     genres  \\\n",
       "0                 R      110  ['drama', 'thriller', 'crime', 'romance']   \n",
       "1                PG       99                      ['comedy', 'romance']   \n",
       "2                PG       93            ['horror', 'comedy', 'fantasy']   \n",
       "3                PG       87             ['romance', 'comedy', 'music']   \n",
       "4                 R       95                                 ['comedy']   \n",
       "\n",
       "  production_countries  seasons  imdb_votes streaming  \n",
       "0               ['US']      NaN        1237    amazon  \n",
       "1               ['US']      NaN        4828    amazon  \n",
       "2               ['US']      NaN        1536    amazon  \n",
       "3               ['US']      NaN       12425    amazon  \n",
       "4               ['US']      NaN         328    amazon  "
      ]
     },
     "execution_count": 4,
     "metadata": {},
     "output_type": "execute_result"
    }
   ],
   "source": [
    "test_titles.head(5)"
   ]
  },
  {
   "cell_type": "markdown",
   "id": "e8796486",
   "metadata": {},
   "source": [
    "<div class=\"alert alert-success h1\" role=\"alert\">\n",
    "    <b> Data Preprocessing\n",
    "</b>\n",
    "<a class=\"anchor\" id=\"intro\"></a> </div>"
   ]
  },
  {
   "cell_type": "markdown",
   "id": "b08688b7",
   "metadata": {},
   "source": [
    "### Genres column"
   ]
  },
  {
   "cell_type": "code",
   "execution_count": 5,
   "id": "3540da16",
   "metadata": {},
   "outputs": [],
   "source": [
    "train_titles['genres'] = train_titles['genres'].apply(eval)\n",
    "test_titles['genres'] = test_titles['genres'].apply(eval)\n",
    "# Instantiate the MultiLabelBinarizer\n",
    "mlb = MultiLabelBinarizer()\n",
    "\n",
    "# Transform the 'genres' column into a binary matrix\n",
    "binary_matrix_train = mlb.fit_transform(train_titles['genres'])\n",
    "binary_matrix_test = mlb.fit_transform(test_titles['genres'])\n",
    "\n",
    "# Convert the binary matrix into a DataFrame with appropriate column names\n",
    "binary_df_train = pd.DataFrame(binary_matrix_train, columns=mlb.classes_)\n",
    "binary_df_test = pd.DataFrame(binary_matrix_test, columns=mlb.classes_)\n",
    "\n",
    "# Reset the index for both 'train_titles' and 'test_titles'\n",
    "train_titles.reset_index(drop=True, inplace=True)\n",
    "test_titles.reset_index(drop=True, inplace=True)\n",
    "\n",
    "# Concatenate 'test_titles' with 'binary_df_test'\n",
    "train_titles_with_genres = pd.concat([train_titles, binary_df_train], axis=1)\n",
    "test_titles_with_genres = pd.concat([test_titles, binary_df_test], axis=1)\n",
    "\n",
    "train_titles=train_titles_with_genres\n",
    "test_titles=test_titles_with_genres"
   ]
  },
  {
   "cell_type": "markdown",
   "id": "d346015d",
   "metadata": {},
   "source": [
    "### Production_countries column"
   ]
  },
  {
   "cell_type": "code",
   "execution_count": 6,
   "id": "b3ebc9ed",
   "metadata": {},
   "outputs": [],
   "source": [
    "train_titles['production_countries'] = train_titles['production_countries'].apply(eval)\n",
    "# Instantiate the MultiLabelBinarizer\n",
    "mlb = MultiLabelBinarizer()\n",
    "\n",
    "# Fit and transform the 'countries' column\n",
    "binarized_countries = mlb.fit_transform(train_titles['production_countries'])\n",
    "\n",
    "# Create a new DataFrame with the binarized countries\n",
    "binarized_df = pd.DataFrame(binarized_countries, columns=mlb.classes_)\n",
    "\n",
    "# Concatenate the new DataFrame with the original DataFrame\n",
    "train_titles = pd.concat([train_titles, binarized_df], axis=1)"
   ]
  },
  {
   "cell_type": "code",
   "execution_count": 7,
   "id": "6b6fa698",
   "metadata": {},
   "outputs": [],
   "source": [
    "test_titles['production_countries'] = test_titles['production_countries'].apply(eval)\n",
    "# Instantiate the MultiLabelBinarizer\n",
    "mlb = MultiLabelBinarizer()\n",
    "\n",
    "# Fit and transform the 'countries' column\n",
    "binarized_countries = mlb.fit_transform(test_titles['production_countries'])\n",
    "\n",
    "# Create a new DataFrame with the binarized countries\n",
    "binarized_df = pd.DataFrame(binarized_countries, columns=mlb.classes_)\n",
    "\n",
    "# Concatenate the new DataFrame with the original DataFrame\n",
    "test_titles = pd.concat([test_titles, binarized_df], axis=1)"
   ]
  },
  {
   "cell_type": "code",
   "execution_count": 8,
   "id": "6e71b6d2",
   "metadata": {},
   "outputs": [],
   "source": [
    "train_titles=train_titles.drop(columns=['train_idx','id','title','description','genres','production_countries'], axis=1)\n",
    "test_titles=test_titles.drop(columns=['title','description','genres','production_countries'], axis=1)"
   ]
  },
  {
   "cell_type": "markdown",
   "id": "1587cb63",
   "metadata": {},
   "source": [
    "### Seasons"
   ]
  },
  {
   "cell_type": "code",
   "execution_count": 9,
   "id": "08b00b53",
   "metadata": {},
   "outputs": [],
   "source": [
    "train_titles['seasons']=train_titles['seasons'].fillna(0)\n",
    "test_titles['seasons']=test_titles['seasons'].fillna(0)"
   ]
  },
  {
   "cell_type": "markdown",
   "id": "2a7cf25a",
   "metadata": {},
   "source": [
    "### Categorical predictors"
   ]
  },
  {
   "cell_type": "code",
   "execution_count": 10,
   "id": "b5bc65fc",
   "metadata": {},
   "outputs": [
    {
     "data": {
      "text/plain": [
       "array(['G', 'TV-14', 'R', nan, 'PG', 'PG-13', 'NC-17', 'TV-PG', 'TV-G',\n",
       "       'TV-Y7', 'TV-MA', 'TV-Y', 'TV-Y7-FV'], dtype=object)"
      ]
     },
     "execution_count": 10,
     "metadata": {},
     "output_type": "execute_result"
    }
   ],
   "source": [
    "train_titles['age_certification'].unique()"
   ]
  },
  {
   "cell_type": "code",
   "execution_count": 11,
   "id": "27b0f6b6",
   "metadata": {},
   "outputs": [],
   "source": [
    "# Encoding categorical predictors\n",
    "train_titles= pd.get_dummies(train_titles, columns=['type', 'streaming', 'age_certification'])\n",
    "test_titles = pd.get_dummies(test_titles, columns=['type', 'streaming','age_certification'])"
   ]
  },
  {
   "cell_type": "markdown",
   "id": "206705db",
   "metadata": {},
   "source": [
    "# Model"
   ]
  },
  {
   "cell_type": "code",
   "execution_count": 12,
   "id": "a2a247a6",
   "metadata": {},
   "outputs": [],
   "source": [
    "# Get features for training\n",
    "X = train_titles.drop(['target', 'imdb_score'], axis=1)\n",
    "y = train_titles['imdb_score']"
   ]
  },
  {
   "cell_type": "code",
   "execution_count": 13,
   "id": "77d70b36",
   "metadata": {},
   "outputs": [],
   "source": [
    "# Calculate the correlation between predictors and the target variable\n",
    "corr_with_target = X.corrwith(y, method='pearson')\n",
    "# Defining predictors with high/medium correlation\n",
    "selected_predictors = corr_with_target[(corr_with_target > 0.05) | (corr_with_target < -0.05)]\n",
    "X = X[selected_predictors.keys()]"
   ]
  },
  {
   "cell_type": "code",
   "execution_count": 14,
   "id": "faadac7c",
   "metadata": {},
   "outputs": [
    {
     "data": {
      "image/png": "[encoded data removed]",
      "text/plain": [
       "<Figure size 800x800 with 1 Axes>"
      ]
     },
     "metadata": {},
     "output_type": "display_data"
    }
   ],
   "source": [
    "# Calculate the correlation between predictors and the target variable\n",
    "corr_with_target = X.corrwith(y, method='pearson')\n",
    "# Plot the correlation values\n",
    "plt.figure(figsize=(8, 8))\n",
    "sns.barplot(x=corr_with_target.index, y=corr_with_target.values)\n",
    "plt.xticks(rotation=90)\n",
    "plt.title(\"Correlation with Target Variable\")\n",
    "plt.show()"
   ]
  },
  {
   "cell_type": "code",
   "execution_count": 15,
   "id": "fa63b639",
   "metadata": {},
   "outputs": [
    {
     "name": "stdout",
     "output_type": "stream",
     "text": [
      "Mean Absolute Error (MAE) on Validation Set: 0.73\n",
      "Mean Squared Error (MSE) on Validation Set: 0.96\n",
      "Root Mean Squared Error (RMSE) on Validation Set: 0.98\n"
     ]
    }
   ],
   "source": [
    "# Split the data for training and validation\n",
    "X_train, X_val, y_train, y_val = train_test_split(X, y, test_size=0.2, random_state=42)\n",
    "\n",
    "# Train the model\n",
    "model = RandomForestRegressor(random_state=42)\n",
    "model.fit(X_train, y_train)\n",
    "\n",
    "#Make predictions on the validation set\n",
    "y_val_pred = model.predict(X_val)\n",
    "\n",
    "# Calculate evaluation metrics on the validation set\n",
    "mae_val = mean_absolute_error(y_val, y_val_pred)\n",
    "mse_val = mean_squared_error(y_val, y_val_pred)\n",
    "rmse_val = mse_val**0.5\n",
    "\n",
    "print(f\"Mean Absolute Error (MAE) on Validation Set: {mae_val:.2f}\")\n",
    "print(f\"Mean Squared Error (MSE) on Validation Set: {mse_val:.2f}\")\n",
    "print(f\"Root Mean Squared Error (RMSE) on Validation Set: {rmse_val:.2f}\")"
   ]
  },
  {
   "cell_type": "code",
   "execution_count": 16,
   "id": "3ac98321",
   "metadata": {},
   "outputs": [
    {
     "data": {
      "text/plain": [
       "array([ True,  True,  True,  True,  True,  True,  True,  True,  True,\n",
       "        True,  True,  True,  True,  True,  True,  True,  True,  True,\n",
       "        True,  True,  True,  True,  True,  True,  True,  True])"
      ]
     },
     "execution_count": 16,
     "metadata": {},
     "output_type": "execute_result"
    }
   ],
   "source": [
    "# Get features for training\n",
    "X_test = test_titles[selected_predictors.keys()]\n",
    "X_test.columns==X_train.columns"
   ]
  },
  {
   "cell_type": "code",
   "execution_count": 17,
   "id": "7855271f",
   "metadata": {},
   "outputs": [
    {
     "data": {
      "text/html": [
       "<style>#sk-container-id-1 {color: black;background-color: white;}#sk-container-id-1 pre{padding: 0;}#sk-container-id-1 div.sk-toggleable {background-color: white;}#sk-container-id-1 label.sk-toggleable__label {cursor: pointer;display: block;width: 100%;margin-bottom: 0;padding: 0.3em;box-sizing: border-box;text-align: center;}#sk-container-id-1 label.sk-toggleable__label-arrow:before {content: \"▸\";float: left;margin-right: 0.25em;color: #696969;}#sk-container-id-1 label.sk-toggleable__label-arrow:hover:before {color: black;}#sk-container-id-1 div.sk-estimator:hover label.sk-toggleable__label-arrow:before {color: black;}#sk-container-id-1 div.sk-toggleable__content {max-height: 0;max-width: 0;overflow: hidden;text-align: left;background-color: #f0f8ff;}#sk-container-id-1 div.sk-toggleable__content pre {margin: 0.2em;color: black;border-radius: 0.25em;background-color: #f0f8ff;}#sk-container-id-1 input.sk-toggleable__control:checked~div.sk-toggleable__content {max-height: 200px;max-width: 100%;overflow: auto;}#sk-container-id-1 input.sk-toggleable__control:checked~label.sk-toggleable__label-arrow:before {content: \"▾\";}#sk-container-id-1 div.sk-estimator input.sk-toggleable__control:checked~label.sk-toggleable__label {background-color: #d4ebff;}#sk-container-id-1 div.sk-label input.sk-toggleable__control:checked~label.sk-toggleable__label {background-color: #d4ebff;}#sk-container-id-1 input.sk-hidden--visually {border: 0;clip: rect(1px 1px 1px 1px);clip: rect(1px, 1px, 1px, 1px);height: 1px;margin: -1px;overflow: hidden;padding: 0;position: absolute;width: 1px;}#sk-container-id-1 div.sk-estimator {font-family: monospace;background-color: #f0f8ff;border: 1px dotted black;border-radius: 0.25em;box-sizing: border-box;margin-bottom: 0.5em;}#sk-container-id-1 div.sk-estimator:hover {background-color: #d4ebff;}#sk-container-id-1 div.sk-parallel-item::after {content: \"\";width: 100%;border-bottom: 1px solid gray;flex-grow: 1;}#sk-container-id-1 div.sk-label:hover label.sk-toggleable__label {background-color: #d4ebff;}#sk-container-id-1 div.sk-serial::before {content: \"\";position: absolute;border-left: 1px solid gray;box-sizing: border-box;top: 0;bottom: 0;left: 50%;z-index: 0;}#sk-container-id-1 div.sk-serial {display: flex;flex-direction: column;align-items: center;background-color: white;padding-right: 0.2em;padding-left: 0.2em;position: relative;}#sk-container-id-1 div.sk-item {position: relative;z-index: 1;}#sk-container-id-1 div.sk-parallel {display: flex;align-items: stretch;justify-content: center;background-color: white;position: relative;}#sk-container-id-1 div.sk-item::before, #sk-container-id-1 div.sk-parallel-item::before {content: \"\";position: absolute;border-left: 1px solid gray;box-sizing: border-box;top: 0;bottom: 0;left: 50%;z-index: -1;}#sk-container-id-1 div.sk-parallel-item {display: flex;flex-direction: column;z-index: 1;position: relative;background-color: white;}#sk-container-id-1 div.sk-parallel-item:first-child::after {align-self: flex-end;width: 50%;}#sk-container-id-1 div.sk-parallel-item:last-child::after {align-self: flex-start;width: 50%;}#sk-container-id-1 div.sk-parallel-item:only-child::after {width: 0;}#sk-container-id-1 div.sk-dashed-wrapped {border: 1px dashed gray;margin: 0 0.4em 0.5em 0.4em;box-sizing: border-box;padding-bottom: 0.4em;background-color: white;}#sk-container-id-1 div.sk-label label {font-family: monospace;font-weight: bold;display: inline-block;line-height: 1.2em;}#sk-container-id-1 div.sk-label-container {text-align: center;}#sk-container-id-1 div.sk-container {/* jupyter's `normalize.less` sets `[hidden] { display: none; }` but bootstrap.min.css set `[hidden] { display: none !important; }` so we also need the `!important` here to be able to override the default hidden behavior on the sphinx rendered scikit-learn.org. See: https://github.com/scikit-learn/scikit-learn/issues/21755 */display: inline-block !important;position: relative;}#sk-container-id-1 div.sk-text-repr-fallback {display: none;}</style><div id=\"sk-container-id-1\" class=\"sk-top-container\"><div class=\"sk-text-repr-fallback\"><pre>RandomForestRegressor(random_state=42)</pre><b>In a Jupyter environment, please rerun this cell to show the HTML representation or trust the notebook. <br />On GitHub, the HTML representation is unable to render, please try loading this page with nbviewer.org.</b></div><div class=\"sk-container\" hidden><div class=\"sk-item\"><div class=\"sk-estimator sk-toggleable\"><input class=\"sk-toggleable__control sk-hidden--visually\" id=\"sk-estimator-id-1\" type=\"checkbox\" checked><label for=\"sk-estimator-id-1\" class=\"sk-toggleable__label sk-toggleable__label-arrow\">RandomForestRegressor</label><div class=\"sk-toggleable__content\"><pre>RandomForestRegressor(random_state=42)</pre></div></div></div></div></div>"
      ],
      "text/plain": [
       "RandomForestRegressor(random_state=42)"
      ]
     },
     "execution_count": 17,
     "metadata": {},
     "output_type": "execute_result"
    }
   ],
   "source": [
    "# Retrain the model on the entire training data\n",
    "model.fit(X, y)"
   ]
  },
  {
   "cell_type": "code",
   "execution_count": 18,
   "id": "6c6058c9",
   "metadata": {},
   "outputs": [],
   "source": [
    "def get_imdb_score_class(score):\n",
    "    if score < 2:\n",
    "        return 0\n",
    "    elif score < 3:\n",
    "        return 1\n",
    "    elif score < 4:\n",
    "        return 2\n",
    "    elif score < 5:\n",
    "        return 3\n",
    "    elif score < 6:\n",
    "        return 4\n",
    "    elif score < 7:\n",
    "        return 5\n",
    "    elif score < 8:\n",
    "        return 6\n",
    "    elif score < 9:\n",
    "        return 7\n",
    "    else:\n",
    "        return 8"
   ]
  },
  {
   "cell_type": "markdown",
   "id": "60a3b77f",
   "metadata": {},
   "source": [
    "# Hyperparameters tuning"
   ]
  },
  {
   "cell_type": "code",
   "execution_count": 20,
   "id": "80f48082",
   "metadata": {},
   "outputs": [
    {
     "name": "stdout",
     "output_type": "stream",
     "text": [
      "Mean Absolute Error (MAE) on Validation Set: 0.71\n",
      "Mean Squared Error (MSE) on Validation Set: 0.91\n",
      "Root Mean Squared Error (RMSE) on Validation Set: 0.95\n"
     ]
    }
   ],
   "source": [
    "# Define the hyperparameters to search over\n",
    "param_grid = {\n",
    "    'n_estimators': [50, 100, 150, 200],\n",
    "    'max_depth': [None, 5, 10, 20, 30],\n",
    "    'min_samples_split': [2, 5, 10, 20],\n",
    "}\n",
    "# Perform GridSearchCV for hyperparameter tuning\n",
    "grid_search = GridSearchCV(model, param_grid, cv=RepeatedKFold(n_splits=10, n_repeats=3, random_state=42), n_jobs=-1)\n",
    "grid_search.fit(X_train, y_train)\n",
    "\n",
    "# Get the best GBR model from GridSearchCV\n",
    "best_model = grid_search.best_estimator_\n",
    "\n",
    "# Make predictions on the validation set\n",
    "y_val_pred = best_model.predict(X_val)\n",
    "\n",
    "# Calculate evaluation metrics on the validation set\n",
    "mae_val = mean_absolute_error(y_val, y_val_pred)\n",
    "mse_val = mean_squared_error(y_val, y_val_pred)\n",
    "rmse_val = mse_val ** 0.5\n",
    "\n",
    "print(f\"Mean Absolute Error (MAE) on Validation Set: {mae_val:.2f}\")\n",
    "print(f\"Mean Squared Error (MSE) on Validation Set: {mse_val:.2f}\")\n",
    "print(f\"Root Mean Squared Error (RMSE) on Validation Set: {rmse_val:.2f}\")\n"
   ]
  },
  {
   "cell_type": "code",
   "execution_count": 24,
   "id": "755728d7",
   "metadata": {},
   "outputs": [
    {
     "data": {
      "text/html": [
       "<style>#sk-container-id-3 {color: black;background-color: white;}#sk-container-id-3 pre{padding: 0;}#sk-container-id-3 div.sk-toggleable {background-color: white;}#sk-container-id-3 label.sk-toggleable__label {cursor: pointer;display: block;width: 100%;margin-bottom: 0;padding: 0.3em;box-sizing: border-box;text-align: center;}#sk-container-id-3 label.sk-toggleable__label-arrow:before {content: \"▸\";float: left;margin-right: 0.25em;color: #696969;}#sk-container-id-3 label.sk-toggleable__label-arrow:hover:before {color: black;}#sk-container-id-3 div.sk-estimator:hover label.sk-toggleable__label-arrow:before {color: black;}#sk-container-id-3 div.sk-toggleable__content {max-height: 0;max-width: 0;overflow: hidden;text-align: left;background-color: #f0f8ff;}#sk-container-id-3 div.sk-toggleable__content pre {margin: 0.2em;color: black;border-radius: 0.25em;background-color: #f0f8ff;}#sk-container-id-3 input.sk-toggleable__control:checked~div.sk-toggleable__content {max-height: 200px;max-width: 100%;overflow: auto;}#sk-container-id-3 input.sk-toggleable__control:checked~label.sk-toggleable__label-arrow:before {content: \"▾\";}#sk-container-id-3 div.sk-estimator input.sk-toggleable__control:checked~label.sk-toggleable__label {background-color: #d4ebff;}#sk-container-id-3 div.sk-label input.sk-toggleable__control:checked~label.sk-toggleable__label {background-color: #d4ebff;}#sk-container-id-3 input.sk-hidden--visually {border: 0;clip: rect(1px 1px 1px 1px);clip: rect(1px, 1px, 1px, 1px);height: 1px;margin: -1px;overflow: hidden;padding: 0;position: absolute;width: 1px;}#sk-container-id-3 div.sk-estimator {font-family: monospace;background-color: #f0f8ff;border: 1px dotted black;border-radius: 0.25em;box-sizing: border-box;margin-bottom: 0.5em;}#sk-container-id-3 div.sk-estimator:hover {background-color: #d4ebff;}#sk-container-id-3 div.sk-parallel-item::after {content: \"\";width: 100%;border-bottom: 1px solid gray;flex-grow: 1;}#sk-container-id-3 div.sk-label:hover label.sk-toggleable__label {background-color: #d4ebff;}#sk-container-id-3 div.sk-serial::before {content: \"\";position: absolute;border-left: 1px solid gray;box-sizing: border-box;top: 0;bottom: 0;left: 50%;z-index: 0;}#sk-container-id-3 div.sk-serial {display: flex;flex-direction: column;align-items: center;background-color: white;padding-right: 0.2em;padding-left: 0.2em;position: relative;}#sk-container-id-3 div.sk-item {position: relative;z-index: 1;}#sk-container-id-3 div.sk-parallel {display: flex;align-items: stretch;justify-content: center;background-color: white;position: relative;}#sk-container-id-3 div.sk-item::before, #sk-container-id-3 div.sk-parallel-item::before {content: \"\";position: absolute;border-left: 1px solid gray;box-sizing: border-box;top: 0;bottom: 0;left: 50%;z-index: -1;}#sk-container-id-3 div.sk-parallel-item {display: flex;flex-direction: column;z-index: 1;position: relative;background-color: white;}#sk-container-id-3 div.sk-parallel-item:first-child::after {align-self: flex-end;width: 50%;}#sk-container-id-3 div.sk-parallel-item:last-child::after {align-self: flex-start;width: 50%;}#sk-container-id-3 div.sk-parallel-item:only-child::after {width: 0;}#sk-container-id-3 div.sk-dashed-wrapped {border: 1px dashed gray;margin: 0 0.4em 0.5em 0.4em;box-sizing: border-box;padding-bottom: 0.4em;background-color: white;}#sk-container-id-3 div.sk-label label {font-family: monospace;font-weight: bold;display: inline-block;line-height: 1.2em;}#sk-container-id-3 div.sk-label-container {text-align: center;}#sk-container-id-3 div.sk-container {/* jupyter's `normalize.less` sets `[hidden] { display: none; }` but bootstrap.min.css set `[hidden] { display: none !important; }` so we also need the `!important` here to be able to override the default hidden behavior on the sphinx rendered scikit-learn.org. See: https://github.com/scikit-learn/scikit-learn/issues/21755 */display: inline-block !important;position: relative;}#sk-container-id-3 div.sk-text-repr-fallback {display: none;}</style><div id=\"sk-container-id-3\" class=\"sk-top-container\"><div class=\"sk-text-repr-fallback\"><pre>RandomForestRegressor(max_depth=20, min_samples_split=20, n_estimators=200,\n",
       "                      random_state=42)</pre><b>In a Jupyter environment, please rerun this cell to show the HTML representation or trust the notebook. <br />On GitHub, the HTML representation is unable to render, please try loading this page with nbviewer.org.</b></div><div class=\"sk-container\" hidden><div class=\"sk-item\"><div class=\"sk-estimator sk-toggleable\"><input class=\"sk-toggleable__control sk-hidden--visually\" id=\"sk-estimator-id-3\" type=\"checkbox\" checked><label for=\"sk-estimator-id-3\" class=\"sk-toggleable__label sk-toggleable__label-arrow\">RandomForestRegressor</label><div class=\"sk-toggleable__content\"><pre>RandomForestRegressor(max_depth=20, min_samples_split=20, n_estimators=200,\n",
       "                      random_state=42)</pre></div></div></div></div></div>"
      ],
      "text/plain": [
       "RandomForestRegressor(max_depth=20, min_samples_split=20, n_estimators=200,\n",
       "                      random_state=42)"
      ]
     },
     "execution_count": 24,
     "metadata": {},
     "output_type": "execute_result"
    }
   ],
   "source": [
    "# Fit the model on the entire training data\n",
    "best_model.fit(X, y)"
   ]
  },
  {
   "cell_type": "code",
   "execution_count": 25,
   "id": "40603f0d",
   "metadata": {},
   "outputs": [
    {
     "data": {
      "image/png": "[encoded data removed]",
      "text/plain": [
       "<Figure size 1000x600 with 1 Axes>"
      ]
     },
     "metadata": {},
     "output_type": "display_data"
    }
   ],
   "source": [
    "# Get feature importances from the best model\n",
    "feature_importances = best_model.feature_importances_\n",
    "\n",
    "# Create a DataFrame to hold the feature importances\n",
    "feature_importance_df = pd.DataFrame({'Feature': X_train.columns, 'Importance': feature_importances})\n",
    "\n",
    "# Sort the DataFrame by feature importances in descending order\n",
    "feature_importance_df = feature_importance_df.sort_values(by='Importance', ascending=False)\n",
    "\n",
    "# Plot the feature importances\n",
    "plt.figure(figsize=(10, 6))\n",
    "sns.barplot(x='Importance', y='Feature', data=feature_importance_df, palette='viridis')\n",
    "plt.title('Feature Importances')\n",
    "plt.xlabel('Importance')\n",
    "plt.ylabel('Feature')\n",
    "plt.show()"
   ]
  },
  {
   "cell_type": "code",
   "execution_count": 27,
   "id": "67df37d7",
   "metadata": {},
   "outputs": [
    {
     "name": "stdout",
     "output_type": "stream",
     "text": [
      "Predictions saved to predictions.json\n"
     ]
    }
   ],
   "source": [
    "# Make predictions on the test set\n",
    "test_predictions = best_model.predict(X_test)\n",
    "test_target_predictions = [get_imdb_score_class(score) for score in test_predictions]\n",
    "\n",
    "# Create the predictions JSON file\n",
    "predictions_dict = {\"target\": {i: test_target_predictions[i] for i in range(len(test_titles))}}\n",
    "\n",
    "# Save predictions to a JSON file\n",
    "with open(\"predictions.json\", \"w\") as json_file:\n",
    "    json.dump(predictions_dict, json_file)\n",
    "\n",
    "print(\"Predictions saved to predictions.json\")"
   ]
  },
  {
   "cell_type": "markdown",
   "id": "957fc858",
   "metadata": {},
   "source": [
    "<div class=\"alert alert-success h1\" role=\"alert\">\n",
    "    <b>Conclusions\n",
    "</b>\n",
    "<a class=\"anchor\" id=\"intro\"></a> </div>\n",
    "\n",
    "We have implemented a regression model to predict the IMDB score. Prior to this, the data has been prepared, binarizing the categorical predictors, as well as replacing the NaN values. Finally, we have chosen the predictors by keeping only the predictors with a non-zero correlation with the IMDB score. Finally, we have performed hyperparameter tuning using GridSearchCV in order to find the best combination of hyperparameters that optimizes the performance of the model on the validation set. From the model, we may observe that the main predictors that determine the IMDB score are the imdb_votes, the runtime, the number of seasons, or whether the the title belong to the horror or documentary genre.  "
   ]
  }
 ],
 "metadata": {
  "kernelspec": {
   "display_name": "Python 3 (ipykernel)",
   "language": "python",
   "name": "python3"
  },
  "language_info": {
   "codemirror_mode": {
    "name": "ipython",
    "version": 3
   },
   "file_extension": ".py",
   "mimetype": "text/x-python",
   "name": "python",
   "nbconvert_exporter": "python",
   "pygments_lexer": "ipython3",
   "version": "3.9.16"
  }
 },
 "nbformat": 4,
 "nbformat_minor": 5
}
